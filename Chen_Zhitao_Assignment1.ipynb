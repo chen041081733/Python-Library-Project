{
 "cells": [
  {
   "cell_type": "code",
   "execution_count": 30,
   "id": "18fd26ea-b98a-40c0-a1f0-c01574e54e25",
   "metadata": {},
   "outputs": [],
   "source": [
    "#import datatime to calculate due date\n",
    "from datetime import datetime, timedelta\n",
    "\n",
    "# Define the Book class\n",
    "class Book:\n",
    "    def __init__(self, title, author, isbn, available):\n",
    "        self.title = title\n",
    "        self.author = author\n",
    "        self.isbn = isbn\n",
    "        self.available = available \n",
    "        self.due_date = None\n",
    "\n",
    "    #define the due_date \n",
    "    def set_due_date(self, days=7):\n",
    "        self.due_date = datetime.now() + timedelta(days=days)\n",
    "\n",
    "    # Return a string representation of the book\n",
    "    def __str__(self):\n",
    "        availability = 'Available' if self.available else 'Not Available'\n",
    "        return f\"Title: {self.title}, Author: {self.author}, ISBN: {self.isbn}, Status: {availability}\"\n",
    "\n"
   ]
  },
  {
   "cell_type": "code",
   "execution_count": 32,
   "id": "e613335e-c2e6-43e9-ae8d-20fbe2d23b15",
   "metadata": {},
   "outputs": [],
   "source": [
    "# Define the User class\n",
    "class User:\n",
    "    def __init__(self, name, user_id, borrowed_books):\n",
    "        self.name = name\n",
    "        self.user_id = user_id\n",
    "        self.borrowed_books = []  # initial list of books borrowed by the user\n",
    "    \n",
    "    # Borrow a book from the library\n",
    "    def borrow_book(self, book):\n",
    "         if len(self.borrowed_books) < 3:  # Regular users can borrow up to 3 books \n",
    "             if book.available == True:\n",
    "                self.borrowed_books.append(book) # add the book to borrowed list\n",
    "                book.set_due_date()  # set book due date\n",
    "                book.available = False  # after borrow, book status should turn to Not available\n",
    "                print(f\"{self.name} borrowed << {book.title} >>.\") # show who borrowed which book\n",
    "                print(f\"{book.title} Due date is:\",book.due_date) # show the return due date of this book\n",
    "             else:\n",
    "                 print(f\"{book.title} is not available.\")\n",
    "         else:\n",
    "             print(f\"{self.name} (Regular User) has reached the limit of 3 books.\")\n",
    "             \n",
    "    # Return a book to the library\n",
    "    def return_book(self, book):\n",
    "       if datetime.now() > book.due_date:\n",
    "            overdue = True\n",
    "            print(f\"{self.name} is returning '{book.title}' late! It was due on {book.due_date.strftime('%Y-%m-%d')}.\")\n",
    "       else:\n",
    "            if book in self.borrowed_books: #check if this book was borrowed by this user\n",
    "                book.available = 1 #book status turns to be available after returned\n",
    "                self.borrowed_books.remove(book) # remove the book from borrowed books list\n",
    "                print(f\"{self.name} returned << {book.title} >> on time\")\n",
    "            else:\n",
    "                print(f\"{self.name} did not borrow << {book.title} >>.\")\n",
    "\n",
    "    # Return a string representation of the user\n",
    "    def __str__(self):\n",
    "        #create a single string representing a list of borrowed books for a user\n",
    "        #converts the book object to its string representation by calling str(book)\n",
    "        #The join() method concatenates the string representations of the books in the list separated by ','\n",
    "        \n",
    "        borrowed_books_str = ', '.join([str(book) for book in self.borrowed_books])\n",
    "        return f\"User: {self.name}, ID: {self.user_id}, Borrowed books: [{borrowed_books_str}]\"\n"
   ]
  },
  {
   "cell_type": "code",
   "execution_count": 34,
   "id": "352f4fa0-1ab3-4bf4-aed7-5557b80f185d",
   "metadata": {},
   "outputs": [],
   "source": [
    "#define subclass PremiumUser\n",
    "class PremiumUser(User):\n",
    "    def borrow_book(self, book):\n",
    "        if len(self.borrowed_books) < 5:  # Premium users can borrow up to 5 books\n",
    "            if book.available ==True:\n",
    "                self.borrowed_books.append(book)\n",
    "                book.set_due_date()\n",
    "                book.available = False\n",
    "                print(f\"{self.name} (Premium User) has borrowed '{book.title}'.\")\n",
    "                print(f\"{book.title} Due date is:\",book.due_date) # due date is same for both regular and premium user\n",
    "            else:\n",
    "                print(f\"'{book.title}' is not available.\")\n",
    "        else:\n",
    "            print(f\"{self.name} (Premium User) has reached the limit of 5 books.\")"
   ]
  },
  {
   "cell_type": "code",
   "execution_count": 36,
   "id": "fc1434dd-b96e-4baa-b509-2d78d79d954e",
   "metadata": {},
   "outputs": [],
   "source": [
    "# Define the Library class\n",
    "class Library:\n",
    "    def __init__(self):\n",
    "        self.books = []       # List of books in the library\n",
    "        self.users = []     # List of users in the library\n",
    "            \n",
    "    # Add a new book to the library inventory\n",
    "    def add_book(self, book):\n",
    "        self.books.append(book)\n",
    "        print(f\"Added book:<< {book.title} >>.\")\n",
    "    \n",
    "    # Add a new user to the library\n",
    "    def add_user(self, user):\n",
    "        self.users.append(user)\n",
    "        print(f\"Added user: {user.name}.\")\n",
    "\n",
    "        # allow a user to borrow a book by ISBN\n",
    "    def borrow_book(self, user_id,isbn):\n",
    "        for user in self.users:\n",
    "            if user.user_id == user_id:\n",
    "                for book in self.books:\n",
    "                    if book.available ==True and book.isbn == isbn:\n",
    "                        user.borrow_book(book)\n",
    "                    \n",
    "#           else:   \n",
    " #               print(\"user not found\")\n",
    "            \n",
    "                 \n",
    "    # allow a user to return a book by ISBN\n",
    "    def return_book(self, user_id,isbn):\n",
    "        for user in self.users:\n",
    "            if user.user_id == user_id:\n",
    "                for book in user.borrowed_books:\n",
    "                    if book.available == False and book.isbn == isbn:\n",
    "                        user.return_book(book)\n",
    "                        book.available = True\n",
    "                        return\n",
    "#            else: \n",
    "#                print(\"user not found\")\n",
    "        \n",
    "   \n",
    "    # Display all books currently available in the library\n",
    "    def display_books(self):\n",
    "        print(\"\\nBooks in Library:\")\n",
    "        for book in self.books:\n",
    "            print(book)\n",
    "        print(\"\\n\")\n",
    "        \n",
    "\n",
    "    # Display all regular users of the library\n",
    "    def display_users(self):\n",
    "        print(\"\\nLibrary Users:\")\n",
    "        for user in self.users:\n",
    "            print(user)\n",
    "        print(\"\\n\")\n",
    "\n"
   ]
  },
  {
   "cell_type": "code",
   "execution_count": 38,
   "id": "96fc3c15-8c9f-4a5d-b06c-26eed8774343",
   "metadata": {},
   "outputs": [
    {
     "name": "stdout",
     "output_type": "stream",
     "text": [
      "Added book:<< Book_One >>.\n",
      "Added book:<< Book_Two >>.\n",
      "Added book:<< Book_Three >>.\n",
      "Added book:<< Book_Four >>.\n",
      "Added book:<< Book_Five >>.\n",
      "Added book:<< Book_Six >>.\n",
      "Added book:<< Book_Seven >>.\n",
      "Added book:<< Book_Eight >>.\n",
      "Added book:<< Book_Nine >>.\n",
      "Added user: User_1_Alen.\n",
      "Added user: PremiumUser_2_John.\n",
      "Added user: User_3_Zhitao.\n",
      "\n",
      "Books in Library:\n",
      "Title: Book_One, Author: Name_one, ISBN: 111111, Status: Available\n",
      "Title: Book_Two, Author: Name_Two, ISBN: 222222, Status: Available\n",
      "Title: Book_Three, Author: Name_Three, ISBN: 333333, Status: Available\n",
      "Title: Book_Four, Author: Name_Four, ISBN: 444444, Status: Available\n",
      "Title: Book_Five, Author: Name_Five, ISBN: 555555, Status: Available\n",
      "Title: Book_Six, Author: Name_Six, ISBN: 666666, Status: Available\n",
      "Title: Book_Seven, Author: Name_Seven, ISBN: 777777, Status: Available\n",
      "Title: Book_Eight, Author: Name_Eight, ISBN: 888888, Status: Available\n",
      "Title: Book_Nine, Author: Name_Nine, ISBN: 999999, Status: Available\n",
      "\n",
      "\n",
      "\n",
      "Library Users:\n",
      "User: User_1_Alen, ID: 1, Borrowed books: []\n",
      "User: PremiumUser_2_John, ID: 2, Borrowed books: []\n",
      "User: User_3_Zhitao, ID: 3, Borrowed books: []\n",
      "\n",
      "\n"
     ]
    }
   ],
   "source": [
    "# Example usage\n",
    "if __name__ == \"__main__\":\n",
    "    # Create a library\n",
    "    library = Library()\n",
    "\n",
    "    # Create books\n",
    "    book1 = Book(\"Book_One\", \"Name_one\", \"111111\",True)\n",
    "    book2 = Book(\"Book_Two\", \"Name_Two\", \"222222\",True)\n",
    "    book3 = Book(\"Book_Three\", \"Name_Three\", \"333333\",True)\n",
    "    book4 = Book(\"Book_Four\", \"Name_Four\", \"444444\",True)\n",
    "    book5 = Book(\"Book_Five\", \"Name_Five\", \"555555\",True)\n",
    "    book6 = Book(\"Book_Six\", \"Name_Six\", \"666666\",True)\n",
    "    book7 = Book(\"Book_Seven\", \"Name_Seven\", \"777777\",True)\n",
    "    book8 = Book(\"Book_Eight\", \"Name_Eight\", \"888888\",True)\n",
    "    book9 = Book(\"Book_Nine\", \"Name_Nine\", \"999999\",True)\n",
    "   \n",
    "\n",
    "\n",
    "    # Add books to the library\n",
    "    library.add_book(book1)\n",
    "    library.add_book(book2)\n",
    "    library.add_book(book3)\n",
    "    library.add_book(book4)\n",
    "    library.add_book(book5)\n",
    "    library.add_book(book6)\n",
    "    library.add_book(book7)\n",
    "    library.add_book(book8)\n",
    "    library.add_book(book9)\n",
    " \n",
    "\n",
    "    \n",
    "# Create users\n",
    "    user1 = User(\"User_1_Alen\", 1, [])\n",
    "    premium_user2 = PremiumUser(\"PremiumUser_2_John\", 2, [])\n",
    "    user3 = User(\"User_3_Zhitao\",3, [])\n",
    "\n",
    "# Add users to the library\n",
    "    library.add_user(user1)\n",
    "    library.add_user(premium_user2)\n",
    "    library.add_user(user3)\n",
    "\n",
    "\n",
    "# Display all books\n",
    "    library.display_books()\n",
    "\n",
    "# Display all users\n",
    "    library.display_users()\n",
    "  \n"
   ]
  },
  {
   "cell_type": "code",
   "execution_count": 40,
   "id": "cb01c145-f39c-4a96-8076-c405a5a965e3",
   "metadata": {},
   "outputs": [
    {
     "name": "stdout",
     "output_type": "stream",
     "text": [
      "User_1_Alen borrowed << Book_Three >>.\n",
      "Book_Three Due date is: 2024-10-17 23:48:49.830916\n",
      "User_1_Alen borrowed << Book_Four >>.\n",
      "Book_Four Due date is: 2024-10-17 23:48:49.830916\n",
      "User_1_Alen borrowed << Book_Five >>.\n",
      "Book_Five Due date is: 2024-10-17 23:48:49.830916\n",
      "\n",
      "Books in Library:\n",
      "Title: Book_One, Author: Name_one, ISBN: 111111, Status: Available\n",
      "Title: Book_Two, Author: Name_Two, ISBN: 222222, Status: Available\n",
      "Title: Book_Three, Author: Name_Three, ISBN: 333333, Status: Not Available\n",
      "Title: Book_Four, Author: Name_Four, ISBN: 444444, Status: Not Available\n",
      "Title: Book_Five, Author: Name_Five, ISBN: 555555, Status: Not Available\n",
      "Title: Book_Six, Author: Name_Six, ISBN: 666666, Status: Available\n",
      "Title: Book_Seven, Author: Name_Seven, ISBN: 777777, Status: Available\n",
      "Title: Book_Eight, Author: Name_Eight, ISBN: 888888, Status: Available\n",
      "Title: Book_Nine, Author: Name_Nine, ISBN: 999999, Status: Available\n",
      "\n",
      "\n",
      "\n",
      "Library Users:\n",
      "User: User_1_Alen, ID: 1, Borrowed books: [Title: Book_Three, Author: Name_Three, ISBN: 333333, Status: Not Available, Title: Book_Four, Author: Name_Four, ISBN: 444444, Status: Not Available, Title: Book_Five, Author: Name_Five, ISBN: 555555, Status: Not Available]\n",
      "User: PremiumUser_2_John, ID: 2, Borrowed books: []\n",
      "User: User_3_Zhitao, ID: 3, Borrowed books: []\n",
      "\n",
      "\n"
     ]
    }
   ],
   "source": [
    "# User borrows a book\n",
    "user1.borrow_book(book3)\n",
    "user1.borrow_book(book4)\n",
    "user1.borrow_book(book5)\n",
    "library.display_books()\n",
    "library.display_users()\n",
    "    \n"
   ]
  },
  {
   "cell_type": "code",
   "execution_count": 42,
   "id": "956ff201-addc-46fc-a1ac-41ece7164846",
   "metadata": {},
   "outputs": [
    {
     "name": "stdout",
     "output_type": "stream",
     "text": [
      "User_1_Alen (Regular User) has reached the limit of 3 books.\n",
      "\n",
      "Books in Library:\n",
      "Title: Book_One, Author: Name_one, ISBN: 111111, Status: Available\n",
      "Title: Book_Two, Author: Name_Two, ISBN: 222222, Status: Available\n",
      "Title: Book_Three, Author: Name_Three, ISBN: 333333, Status: Not Available\n",
      "Title: Book_Four, Author: Name_Four, ISBN: 444444, Status: Not Available\n",
      "Title: Book_Five, Author: Name_Five, ISBN: 555555, Status: Not Available\n",
      "Title: Book_Six, Author: Name_Six, ISBN: 666666, Status: Available\n",
      "Title: Book_Seven, Author: Name_Seven, ISBN: 777777, Status: Available\n",
      "Title: Book_Eight, Author: Name_Eight, ISBN: 888888, Status: Available\n",
      "Title: Book_Nine, Author: Name_Nine, ISBN: 999999, Status: Available\n",
      "\n",
      "\n",
      "\n",
      "Library Users:\n",
      "User: User_1_Alen, ID: 1, Borrowed books: [Title: Book_Three, Author: Name_Three, ISBN: 333333, Status: Not Available, Title: Book_Four, Author: Name_Four, ISBN: 444444, Status: Not Available, Title: Book_Five, Author: Name_Five, ISBN: 555555, Status: Not Available]\n",
      "User: PremiumUser_2_John, ID: 2, Borrowed books: []\n",
      "User: User_3_Zhitao, ID: 3, Borrowed books: []\n",
      "\n",
      "\n"
     ]
    }
   ],
   "source": [
    "user1.borrow_book(book6)\n",
    "library.display_books()\n",
    "library.display_users()"
   ]
  },
  {
   "cell_type": "code",
   "execution_count": 44,
   "id": "7ab2febe-03db-48ee-b488-25133e05e5aa",
   "metadata": {},
   "outputs": [
    {
     "name": "stdout",
     "output_type": "stream",
     "text": [
      "User_1_Alen returned << Book_Three >> on time\n",
      "\n",
      "Books in Library:\n",
      "Title: Book_One, Author: Name_one, ISBN: 111111, Status: Available\n",
      "Title: Book_Two, Author: Name_Two, ISBN: 222222, Status: Available\n",
      "Title: Book_Three, Author: Name_Three, ISBN: 333333, Status: Available\n",
      "Title: Book_Four, Author: Name_Four, ISBN: 444444, Status: Not Available\n",
      "Title: Book_Five, Author: Name_Five, ISBN: 555555, Status: Not Available\n",
      "Title: Book_Six, Author: Name_Six, ISBN: 666666, Status: Available\n",
      "Title: Book_Seven, Author: Name_Seven, ISBN: 777777, Status: Available\n",
      "Title: Book_Eight, Author: Name_Eight, ISBN: 888888, Status: Available\n",
      "Title: Book_Nine, Author: Name_Nine, ISBN: 999999, Status: Available\n",
      "\n",
      "\n",
      "\n",
      "Library Users:\n",
      "User: User_1_Alen, ID: 1, Borrowed books: [Title: Book_Four, Author: Name_Four, ISBN: 444444, Status: Not Available, Title: Book_Five, Author: Name_Five, ISBN: 555555, Status: Not Available]\n",
      "User: PremiumUser_2_John, ID: 2, Borrowed books: []\n",
      "User: User_3_Zhitao, ID: 3, Borrowed books: []\n",
      "\n",
      "\n"
     ]
    }
   ],
   "source": [
    "user1.return_book(book3)\n",
    "library.display_books()\n",
    "library.display_users()"
   ]
  },
  {
   "cell_type": "code",
   "execution_count": 46,
   "id": "e68051fe-0678-437c-b374-a3d5867727d1",
   "metadata": {},
   "outputs": [
    {
     "name": "stdout",
     "output_type": "stream",
     "text": [
      "PremiumUser_2_John (Premium User) has borrowed 'Book_Six'.\n",
      "Book_Six Due date is: 2024-10-17 23:48:50.675471\n",
      "PremiumUser_2_John (Premium User) has borrowed 'Book_Seven'.\n",
      "Book_Seven Due date is: 2024-10-17 23:48:50.676474\n",
      "PremiumUser_2_John (Premium User) has borrowed 'Book_Eight'.\n",
      "Book_Eight Due date is: 2024-10-17 23:48:50.676474\n",
      "PremiumUser_2_John (Premium User) has borrowed 'Book_Nine'.\n",
      "Book_Nine Due date is: 2024-10-17 23:48:50.676474\n",
      "PremiumUser_2_John (Premium User) has borrowed 'Book_Three'.\n",
      "Book_Three Due date is: 2024-10-17 23:48:50.676474\n",
      "\n",
      "Books in Library:\n",
      "Title: Book_One, Author: Name_one, ISBN: 111111, Status: Available\n",
      "Title: Book_Two, Author: Name_Two, ISBN: 222222, Status: Available\n",
      "Title: Book_Three, Author: Name_Three, ISBN: 333333, Status: Not Available\n",
      "Title: Book_Four, Author: Name_Four, ISBN: 444444, Status: Not Available\n",
      "Title: Book_Five, Author: Name_Five, ISBN: 555555, Status: Not Available\n",
      "Title: Book_Six, Author: Name_Six, ISBN: 666666, Status: Not Available\n",
      "Title: Book_Seven, Author: Name_Seven, ISBN: 777777, Status: Not Available\n",
      "Title: Book_Eight, Author: Name_Eight, ISBN: 888888, Status: Not Available\n",
      "Title: Book_Nine, Author: Name_Nine, ISBN: 999999, Status: Not Available\n",
      "\n",
      "\n",
      "\n",
      "Library Users:\n",
      "User: User_1_Alen, ID: 1, Borrowed books: [Title: Book_Four, Author: Name_Four, ISBN: 444444, Status: Not Available, Title: Book_Five, Author: Name_Five, ISBN: 555555, Status: Not Available]\n",
      "User: PremiumUser_2_John, ID: 2, Borrowed books: [Title: Book_Six, Author: Name_Six, ISBN: 666666, Status: Not Available, Title: Book_Seven, Author: Name_Seven, ISBN: 777777, Status: Not Available, Title: Book_Eight, Author: Name_Eight, ISBN: 888888, Status: Not Available, Title: Book_Nine, Author: Name_Nine, ISBN: 999999, Status: Not Available, Title: Book_Three, Author: Name_Three, ISBN: 333333, Status: Not Available]\n",
      "User: User_3_Zhitao, ID: 3, Borrowed books: []\n",
      "\n",
      "\n"
     ]
    }
   ],
   "source": [
    "premium_user2.borrow_book(book6)\n",
    "premium_user2.borrow_book(book7)\n",
    "premium_user2.borrow_book(book8)\n",
    "premium_user2.borrow_book(book9)\n",
    "premium_user2.borrow_book(book3)\n",
    "\n",
    "library.display_books()\n",
    "library.display_users()"
   ]
  },
  {
   "cell_type": "code",
   "execution_count": 48,
   "id": "dcd88501-92a8-4d53-bfe5-e6b53f75d410",
   "metadata": {},
   "outputs": [
    {
     "name": "stdout",
     "output_type": "stream",
     "text": [
      "PremiumUser_2_John (Premium User) has reached the limit of 5 books.\n",
      "\n",
      "Books in Library:\n",
      "Title: Book_One, Author: Name_one, ISBN: 111111, Status: Available\n",
      "Title: Book_Two, Author: Name_Two, ISBN: 222222, Status: Available\n",
      "Title: Book_Three, Author: Name_Three, ISBN: 333333, Status: Not Available\n",
      "Title: Book_Four, Author: Name_Four, ISBN: 444444, Status: Not Available\n",
      "Title: Book_Five, Author: Name_Five, ISBN: 555555, Status: Not Available\n",
      "Title: Book_Six, Author: Name_Six, ISBN: 666666, Status: Not Available\n",
      "Title: Book_Seven, Author: Name_Seven, ISBN: 777777, Status: Not Available\n",
      "Title: Book_Eight, Author: Name_Eight, ISBN: 888888, Status: Not Available\n",
      "Title: Book_Nine, Author: Name_Nine, ISBN: 999999, Status: Not Available\n",
      "\n",
      "\n",
      "\n",
      "Library Users:\n",
      "User: User_1_Alen, ID: 1, Borrowed books: [Title: Book_Four, Author: Name_Four, ISBN: 444444, Status: Not Available, Title: Book_Five, Author: Name_Five, ISBN: 555555, Status: Not Available]\n",
      "User: PremiumUser_2_John, ID: 2, Borrowed books: [Title: Book_Six, Author: Name_Six, ISBN: 666666, Status: Not Available, Title: Book_Seven, Author: Name_Seven, ISBN: 777777, Status: Not Available, Title: Book_Eight, Author: Name_Eight, ISBN: 888888, Status: Not Available, Title: Book_Nine, Author: Name_Nine, ISBN: 999999, Status: Not Available, Title: Book_Three, Author: Name_Three, ISBN: 333333, Status: Not Available]\n",
      "User: User_3_Zhitao, ID: 3, Borrowed books: []\n",
      "\n",
      "\n"
     ]
    }
   ],
   "source": [
    "premium_user2.borrow_book(book2)\n",
    "library.display_books()\n",
    "library.display_users()"
   ]
  },
  {
   "cell_type": "code",
   "execution_count": 50,
   "id": "aa3b17da-e72f-4c24-875c-51c91e5ee3c9",
   "metadata": {},
   "outputs": [
    {
     "name": "stdout",
     "output_type": "stream",
     "text": [
      "User_1_Alen borrowed << Book_One >>.\n",
      "Book_One Due date is: 2024-10-17 23:48:51.444240\n"
     ]
    }
   ],
   "source": [
    "library.borrow_book(1,'111111')"
   ]
  },
  {
   "cell_type": "code",
   "execution_count": 52,
   "id": "4d8a094f-5e46-47ca-af84-3ae406b16a83",
   "metadata": {},
   "outputs": [
    {
     "name": "stdout",
     "output_type": "stream",
     "text": [
      "\n",
      "Books in Library:\n",
      "Title: Book_One, Author: Name_one, ISBN: 111111, Status: Not Available\n",
      "Title: Book_Two, Author: Name_Two, ISBN: 222222, Status: Available\n",
      "Title: Book_Three, Author: Name_Three, ISBN: 333333, Status: Not Available\n",
      "Title: Book_Four, Author: Name_Four, ISBN: 444444, Status: Not Available\n",
      "Title: Book_Five, Author: Name_Five, ISBN: 555555, Status: Not Available\n",
      "Title: Book_Six, Author: Name_Six, ISBN: 666666, Status: Not Available\n",
      "Title: Book_Seven, Author: Name_Seven, ISBN: 777777, Status: Not Available\n",
      "Title: Book_Eight, Author: Name_Eight, ISBN: 888888, Status: Not Available\n",
      "Title: Book_Nine, Author: Name_Nine, ISBN: 999999, Status: Not Available\n",
      "\n",
      "\n",
      "\n",
      "Library Users:\n",
      "User: User_1_Alen, ID: 1, Borrowed books: [Title: Book_Four, Author: Name_Four, ISBN: 444444, Status: Not Available, Title: Book_Five, Author: Name_Five, ISBN: 555555, Status: Not Available, Title: Book_One, Author: Name_one, ISBN: 111111, Status: Not Available]\n",
      "User: PremiumUser_2_John, ID: 2, Borrowed books: [Title: Book_Six, Author: Name_Six, ISBN: 666666, Status: Not Available, Title: Book_Seven, Author: Name_Seven, ISBN: 777777, Status: Not Available, Title: Book_Eight, Author: Name_Eight, ISBN: 888888, Status: Not Available, Title: Book_Nine, Author: Name_Nine, ISBN: 999999, Status: Not Available, Title: Book_Three, Author: Name_Three, ISBN: 333333, Status: Not Available]\n",
      "User: User_3_Zhitao, ID: 3, Borrowed books: []\n",
      "\n",
      "\n"
     ]
    }
   ],
   "source": [
    "library.display_books()\n",
    "library.display_users()"
   ]
  },
  {
   "cell_type": "code",
   "execution_count": 54,
   "id": "e9b9016b-931e-404c-b3d6-02c6cc8be365",
   "metadata": {},
   "outputs": [
    {
     "name": "stdout",
     "output_type": "stream",
     "text": [
      "User_1_Alen returned << Book_One >> on time\n"
     ]
    }
   ],
   "source": [
    "library.return_book(1,'111111')"
   ]
  },
  {
   "cell_type": "code",
   "execution_count": 56,
   "id": "4d2e1f04-5d79-455c-ba7c-473985b09c43",
   "metadata": {},
   "outputs": [
    {
     "name": "stdout",
     "output_type": "stream",
     "text": [
      "\n",
      "Books in Library:\n",
      "Title: Book_One, Author: Name_one, ISBN: 111111, Status: Available\n",
      "Title: Book_Two, Author: Name_Two, ISBN: 222222, Status: Available\n",
      "Title: Book_Three, Author: Name_Three, ISBN: 333333, Status: Not Available\n",
      "Title: Book_Four, Author: Name_Four, ISBN: 444444, Status: Not Available\n",
      "Title: Book_Five, Author: Name_Five, ISBN: 555555, Status: Not Available\n",
      "Title: Book_Six, Author: Name_Six, ISBN: 666666, Status: Not Available\n",
      "Title: Book_Seven, Author: Name_Seven, ISBN: 777777, Status: Not Available\n",
      "Title: Book_Eight, Author: Name_Eight, ISBN: 888888, Status: Not Available\n",
      "Title: Book_Nine, Author: Name_Nine, ISBN: 999999, Status: Not Available\n",
      "\n",
      "\n",
      "\n",
      "Library Users:\n",
      "User: User_1_Alen, ID: 1, Borrowed books: [Title: Book_Four, Author: Name_Four, ISBN: 444444, Status: Not Available, Title: Book_Five, Author: Name_Five, ISBN: 555555, Status: Not Available]\n",
      "User: PremiumUser_2_John, ID: 2, Borrowed books: [Title: Book_Six, Author: Name_Six, ISBN: 666666, Status: Not Available, Title: Book_Seven, Author: Name_Seven, ISBN: 777777, Status: Not Available, Title: Book_Eight, Author: Name_Eight, ISBN: 888888, Status: Not Available, Title: Book_Nine, Author: Name_Nine, ISBN: 999999, Status: Not Available, Title: Book_Three, Author: Name_Three, ISBN: 333333, Status: Not Available]\n",
      "User: User_3_Zhitao, ID: 3, Borrowed books: []\n",
      "\n",
      "\n"
     ]
    }
   ],
   "source": [
    "library.display_books()\n",
    "library.display_users()"
   ]
  },
  {
   "cell_type": "code",
   "execution_count": null,
   "id": "68a85965-f59d-4f49-bfa0-087403dd6f6e",
   "metadata": {},
   "outputs": [],
   "source": []
  },
  {
   "cell_type": "code",
   "execution_count": null,
   "id": "6dd89681-aa34-4822-8aeb-f7dc63b0c8b2",
   "metadata": {},
   "outputs": [],
   "source": []
  }
 ],
 "metadata": {
  "kernelspec": {
   "display_name": "Python 3 (ipykernel)",
   "language": "python",
   "name": "python3"
  },
  "language_info": {
   "codemirror_mode": {
    "name": "ipython",
    "version": 3
   },
   "file_extension": ".py",
   "mimetype": "text/x-python",
   "name": "python",
   "nbconvert_exporter": "python",
   "pygments_lexer": "ipython3",
   "version": "3.12.4"
  }
 },
 "nbformat": 4,
 "nbformat_minor": 5
}
